{
 "cells": [
  {
   "cell_type": "code",
   "execution_count": 2,
   "metadata": {
    "collapsed": true
   },
   "outputs": [],
   "source": [
    "# -*- coding: utf-8 -*-\n",
    "\n",
    "%matplotlib inline\n",
    "\n",
    "from __future__ import division, print_function\n",
    "\n",
    "import numpy as np\n",
    "import matplotlib.pyplot as plt\n",
    "\n",
    "__author__ = \"Ignacio Casso, Daniel Gamo, Gwydion J. Martín, Alberto Terceño\"\n",
    "\n",
    "\n",
    "def sigmoid(z):\n",
    "    return 1/(1+np.exp(z))\n",
    "\n",
    "class Perceptron(object):\n",
    "    \n",
    "    def __init__(self):\n",
    "        self.bW = np.array([])\n",
    "        #self.fig, self.ax = plt.subplots(1,1)\n",
    "    \n",
    "        #self.ax.set_xlim(-20,20)\n",
    "        #self.ax.set_ylim(-20,20)\n",
    "        #self.ax.set_aspect('equal')\n",
    "        pass\n",
    "              \n",
    "    # x:numpy.array(N,D+1) (con columna de 1s)\n",
    "    def get_nn_value(self, x):\n",
    "        return sigmoid(x.dot(self.bW))#Funciona aunque bw no sea matriz, devuelve array (o numero si N=1)\n",
    "\n",
    "    # x:numpy.array(N,D) (sin columna de 1s); t: numpy.array(N)\n",
    "    def train(self, x, t, epochs=20, batch_size=5, epsilon=0.1):\n",
    "        D=x.shape[1]\n",
    "        n=x.shape[0]\n",
    "        self.bW = np.array([0, 0.5, 5])\n",
    "        columnaDeUnos = np.array([[1]*n]).T\n",
    "        x = np.hstack((columnaDeUnos,x))\n",
    "       \n",
    "        ind = range(n)\n",
    "        for _ in range(epochs):\n",
    "            np.random.shuffle(ind)\n",
    "            for i in range(0,n+1-batch_size,batch_size):#range(0,n,batch_size) ajustado para descartar sobrantes\n",
    "                    indexes = ind[i:i+batch_size]\n",
    "                    grad_bW = self.get_grad(x[indexes], t[indexes])\n",
    "                    self.bW = (self.bW - epsilon*grad_bW)\n",
    "    \n",
    "     # x:numpy.array(N,D) (sin columna de 1s)\n",
    "    def classify(self, x):\n",
    "        n=x.shape[0]\n",
    "        columnaDeUnos = np.array([[1]*n]).T\n",
    "        x = np.hstack((columnaDeUnos,x))\n",
    "        outputs = self.get_nn_value(x)\n",
    "        for i in range(n):\n",
    "            if (outputs[i]<=0.5):\n",
    "                outputs[i]=0\n",
    "            else:\n",
    "                outputs[i]=1\n",
    "\n",
    "        #x_min, x_max = np.min(x)-5, np.max(x)+5\n",
    "        #abscissas = np.array([x_min,x_max])\n",
    "        #ordinates = -self.bW[1] / self.bW[2] * abscissas - self.bW[0] / self.bW[2]\n",
    "        #plt.axis('equal')\n",
    "        #plt.scatter(x[:,0],x[:,1])\n",
    "        #plt.plot(abscissas,ordinates)\n",
    "\n",
    "        return outputs\n",
    "    \n",
    "    # x:numpy.array(N,D+1) (con columna de 1s); t: numpy.array(N)\n",
    "    def get_grad(self,x,t):#derivada de En respecto de Wi = (Yn-Tn)*Xni\n",
    "        n=x.shape[0]\n",
    "        delta = self.get_nn_value(x)-t                  #Array (y1-t1, ... , yn-tn)\n",
    "        matGradientes = delta[:,np.newaxis] * x         #Matriz con el n-esimo gradiente en la fila n (NxD+1)\n",
    "        grad_bW = np.sum(matGradientes, axis=0) / n     #Suma las filas de la matriz, devuelve array de dimension D+1\n",
    "        return grad_bW\n"
   ]
  },
  {
   "cell_type": "code",
   "execution_count": 3,
   "metadata": {
    "collapsed": true
   },
   "outputs": [],
   "source": [
    "perceptron = Perceptron()"
   ]
  },
  {
   "cell_type": "code",
   "execution_count": 4,
   "metadata": {
    "collapsed": true
   },
   "outputs": [],
   "source": [
    "nb_points = 20\n",
    "x_black = np.random.randn(nb_points, 2) + np.array([-5, 0])\n",
    "x_red = np.random.randn(nb_points, 2) + np.array([5, 0])\n",
    "x_data = np.vstack((x_black, x_red))\n",
    "t_data = np.array([0]*20 + [1]*20)"
   ]
  },
  {
   "cell_type": "code",
   "execution_count": 5,
   "metadata": {
    "collapsed": true
   },
   "outputs": [],
   "source": [
    "x_min, x_max = -20, 20\n",
    "abscisas = np.array([x_min, x_max])"
   ]
  },
  {
   "cell_type": "code",
   "execution_count": 6,
   "metadata": {
    "collapsed": false
   },
   "outputs": [],
   "source": [
    "perceptron.train(x_data, t_data, 0, 40, 0.1)"
   ]
  },
  {
   "cell_type": "code",
   "execution_count": 7,
   "metadata": {
    "collapsed": false
   },
   "outputs": [],
   "source": [
    "bW = perceptron.bW\n",
    "if (bW[2]!=0):\n",
    "    ordinates = -bW[1] / bW[2] *abscisas - bW[0] / bW[2]\n",
    "else:\n",
    "    aux = -bW[0] / bW[1]\n",
    "    abcisas = np.array([aux, aux])\n",
    "    ordinates = np.array([-19,19])"
   ]
  },
  {
   "cell_type": "code",
   "execution_count": 8,
   "metadata": {
    "collapsed": false
   },
   "outputs": [
    {
     "data": {
      "text/plain": [
       "(-22.0, 22.0, -2.2345268526258244, 2.9250639051423151)"
      ]
     },
     "execution_count": 8,
     "metadata": {},
     "output_type": "execute_result"
    },
    {
     "data": {
      "image/png": "[encoded data removed]",
      "text/plain": [
       "<matplotlib.figure.Figure at 0x61806a0>"
      ]
     },
     "metadata": {},
     "output_type": "display_data"
    }
   ],
   "source": [
    "plt.scatter(x_data[:, 0], x_data[:, 1])\n",
    "plt.plot(abscisas, ordinates)\n",
    "plt.axis('equal')"
   ]
  },
  {
   "cell_type": "code",
   "execution_count": 9,
   "metadata": {
    "collapsed": false
   },
   "outputs": [],
   "source": [
    "perceptron.train(x_data, t_data, 20, 40, 0.1)"
   ]
  },
  {
   "cell_type": "code",
   "execution_count": 10,
   "metadata": {
    "collapsed": false
   },
   "outputs": [],
   "source": [
    "bW = perceptron.bW\n",
    "if (bW[2]!=0):\n",
    "    ordinates = -bW[1] / bW[2] *abscisas - bW[0] / bW[2]\n",
    "else:\n",
    "    aux = -bW[0] / bW[1]\n",
    "    abcisas = np.array([aux, aux])\n",
    "    ordinates = np.array([-19,19])"
   ]
  },
  {
   "cell_type": "code",
   "execution_count": 11,
   "metadata": {
    "collapsed": false
   },
   "outputs": [
    {
     "data": {
      "text/plain": [
       "(-22.0, 22.0, -41.145189514104146, 41.138815024345377)"
      ]
     },
     "execution_count": 11,
     "metadata": {},
     "output_type": "execute_result"
    },
    {
     "data": {
      "image/png": "[encoded data removed]",
      "text/plain": [
       "<matplotlib.figure.Figure at 0x617d6a0>"
      ]
     },
     "metadata": {},
     "output_type": "display_data"
    }
   ],
   "source": [
    "plt.scatter(x_data[:, 0], x_data[:, 1])\n",
    "plt.plot(abscisas, ordinates)\n",
    "plt.axis('equal')"
   ]
  },
  {
   "cell_type": "code",
   "execution_count": 35,
   "metadata": {
    "collapsed": false
   },
   "outputs": [],
   "source": [
    "m = 5\n",
    "z_black = np.random.randn(m, 2) + np.array([-5, 0])\n",
    "z_red = np.random.randn(m, 2) + np.array([5, 0])\n",
    "z_data = np.vstack((z_black, z_red))"
   ]
  },
  {
   "cell_type": "code",
   "execution_count": 36,
   "metadata": {
    "collapsed": false
   },
   "outputs": [
    {
     "data": {
      "text/plain": [
       "array([ 1.,  1.,  1.,  1.,  1.,  0.,  0.,  0.,  0.,  0.])"
      ]
     },
     "execution_count": 36,
     "metadata": {},
     "output_type": "execute_result"
    }
   ],
   "source": [
    "perceptron.classify(z_data)"
   ]
  },
  {
   "cell_type": "code",
   "execution_count": null,
   "metadata": {
    "collapsed": true
   },
   "outputs": [],
   "source": []
  }
 ],
 "metadata": {
  "kernelspec": {
   "display_name": "Python 2",
   "language": "python",
   "name": "python2"
  },
  "language_info": {
   "codemirror_mode": {
    "name": "ipython",
    "version": 2
   },
   "file_extension": ".py",
   "mimetype": "text/x-python",
   "name": "python",
   "nbconvert_exporter": "python",
   "pygments_lexer": "ipython2",
   "version": "2.7.13"
  }
 },
 "nbformat": 4,
 "nbformat_minor": 2
}
